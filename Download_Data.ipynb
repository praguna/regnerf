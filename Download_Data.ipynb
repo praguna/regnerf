{
 "cells": [
  {
   "cell_type": "code",
   "execution_count": null,
   "metadata": {
    "scrolled": true
   },
   "outputs": [],
   "source": [
    "!pip install gdown"
   ]
  },
  {
   "cell_type": "code",
   "execution_count": null,
   "metadata": {},
   "outputs": [],
   "source": [
    "!gdown --folder https://drive.google.com/drive/folders/128yBriW1IG_3NJ5Rp7APSTZsJqdJdfc1 --remaining-ok"
   ]
  },
  {
   "cell_type": "code",
   "execution_count": 5,
   "metadata": {},
   "outputs": [],
   "source": [
    "!mkdir checkpoints"
   ]
  },
  {
   "cell_type": "code",
   "execution_count": 13,
   "metadata": {
    "scrolled": true
   },
   "outputs": [
    {
     "name": "stdout",
     "output_type": "stream",
     "text": [
      "Downloading...\n",
      "From (uriginal): https://drive.google.com/uc?id=1iWgaPoF-1z80S8RwMsQwjiXz4b5RNZi3\n",
      "From (redirected): https://drive.google.com/uc?id=1iWgaPoF-1z80S8RwMsQwjiXz4b5RNZi3&confirm=t&uuid=c233acfe-f6b2-4cd5-863e-e6477ab0df03\n",
      "To: /ssd_scratch/cvit/saransh/regnerf/llff3.zip\n",
      "100%|████████████████████████████████████████| 128M/128M [00:02<00:00, 43.7MB/s]\n"
     ]
    }
   ],
   "source": [
    "!gdown  https://drive.google.com/uc?id=1iWgaPoF-1z80S8RwMsQwjiXz4b5RNZi3"
   ]
  },
  {
   "cell_type": "code",
   "execution_count": 14,
   "metadata": {
    "scrolled": true
   },
   "outputs": [
    {
     "name": "stdout",
     "output_type": "stream",
     "text": [
      "Archive:  llff3.zip\n",
      "   creating: fern/\n",
      "   creating: flower/\n",
      "   creating: fortress/\n",
      "   creating: horns/\n",
      "   creating: leaves/\n",
      "   creating: orchids/\n",
      "   creating: room/\n",
      "   creating: trex/\n",
      "  inflating: trex/checkpoint_69768   \n",
      "  inflating: fern/checkpoint_69768   \n",
      "  inflating: fortress/checkpoint_69768  \n",
      "  inflating: leaves/checkpoint_69768  \n",
      "  inflating: orchids/checkpoint_69768  \n",
      "  inflating: flower/checkpoint_69768  \n",
      "  inflating: horns/checkpoint_69768  \n",
      "  inflating: room/checkpoint_69768   \n"
     ]
    }
   ],
   "source": [
    "!mv llff3.zip checkpoints\n",
    "!cd checkpoints && unzip llff3.zip"
   ]
  },
  {
   "cell_type": "code",
   "execution_count": null,
   "metadata": {},
   "outputs": [],
   "source": []
  }
 ],
 "metadata": {
  "kernelspec": {
   "display_name": "Python 3",
   "language": "python",
   "name": "python3"
  },
  "language_info": {
   "codemirror_mode": {
    "name": "ipython",
    "version": 3
   },
   "file_extension": ".py",
   "mimetype": "text/x-python",
   "name": "python",
   "nbconvert_exporter": "python",
   "pygments_lexer": "ipython3",
   "version": "3.6.9"
  }
 },
 "nbformat": 4,
 "nbformat_minor": 2
}
